{
 "cells": [
  {
   "cell_type": "code",
   "execution_count": 66,
   "id": "26fc316d",
   "metadata": {},
   "outputs": [],
   "source": [
    "import pandas as pd"
   ]
  },
  {
   "cell_type": "code",
   "execution_count": 67,
   "id": "cdc0d670",
   "metadata": {},
   "outputs": [],
   "source": [
    "# Função para baixar e tratar tabelas do FBref\n",
    "def get_fbref_table(url):\n",
    "    tables = pd.read_html(url, header=[0, 1])\n",
    "    df = tables[0]\n",
    "    # Junta MultiIndex em nomes simples\n",
    "    df.columns = [' '.join(col).strip() for col in df.columns.values]\n",
    "    # Remove espaços extras\n",
    "    df.columns = df.columns.str.strip()\n",
    "    return df"
   ]
  },
  {
   "cell_type": "code",
   "execution_count": null,
   "id": "a1131aef",
   "metadata": {},
   "outputs": [],
   "source": [
    "#ESTATISTICA DE CHUTES"
   ]
  },
  {
   "cell_type": "code",
   "execution_count": 74,
   "id": "ab1aa878",
   "metadata": {},
   "outputs": [],
   "source": [
    "# 2. Estatísticas de chutes\n",
    "url_shots = \"https://fbref.com/en/comps/9/2024-2025/shooting/2024-2025-Premier-League-Stats\"\n",
    "df_shots = get_fbref_table(url_shots)"
   ]
  },
  {
   "cell_type": "code",
   "execution_count": 75,
   "id": "79a35375",
   "metadata": {},
   "outputs": [
    {
     "name": "stdout",
     "output_type": "stream",
     "text": [
      "['Unnamed: 0_level_0 Squad', 'Unnamed: 1_level_0 # Pl', 'Unnamed: 2_level_0 90s', 'Standard Gls', 'Standard Sh', 'Standard SoT', 'Standard SoT%', 'Standard Sh/90', 'Standard SoT/90', 'Standard G/Sh', 'Standard G/SoT', 'Standard Dist', 'Standard FK', 'Standard PK', 'Standard PKatt', 'Expected xG', 'Expected npxG', 'Expected npxG/Sh', 'Expected G-xG', 'Expected np:G-xG']\n"
     ]
    }
   ],
   "source": [
    "# Conferir colunas para saber o nome real\n",
    "print(df_shots.columns.tolist())"
   ]
  },
  {
   "cell_type": "code",
   "execution_count": 76,
   "id": "807ba601",
   "metadata": {},
   "outputs": [],
   "source": [
    "#Renomear colunas\n",
    "df_shots = df_shots.rename(columns={\n",
    "    'Unnamed: 0_level_0 Squad': 'Time',\n",
    "    'Standard SoT': 'Chutes no Alvo'\n",
    "})\n",
    "\n",
    "df_shots = df_shots[['Time', 'Chutes no Alvo']]\n"
   ]
  },
  {
   "cell_type": "code",
   "execution_count": 77,
   "id": "e72a9021",
   "metadata": {},
   "outputs": [
    {
     "name": "stdout",
     "output_type": "stream",
     "text": [
      "['Time', 'Chutes no Alvo']\n"
     ]
    }
   ],
   "source": [
    "# Conferir colunas para saber o nome real\n",
    "print(df_shots.columns.tolist())"
   ]
  },
  {
   "cell_type": "code",
   "execution_count": 78,
   "id": "dff83fd4",
   "metadata": {},
   "outputs": [],
   "source": [
    "# Seleciona apenas colunas de interesse\n",
    "df_shots = df_shots[['Time', 'Chutes no Alvo']]"
   ]
  },
  {
   "cell_type": "markdown",
   "id": "ba4c794a",
   "metadata": {},
   "source": [
    "# VISUALIZAR GOLS MARCADOS E SOBRIDOS EM CASA E FORA"
   ]
  },
  {
   "cell_type": "code",
   "execution_count": 79,
   "id": "5d1b8f76",
   "metadata": {},
   "outputs": [],
   "source": [
    "# URL da tabela de classificação\n",
    "url_class_gols = \"https://fbref.com/en/comps/9/2024-2025/2024-2025-Premier-League-Stats\""
   ]
  },
  {
   "cell_type": "code",
   "execution_count": 80,
   "id": "a45d56d2",
   "metadata": {},
   "outputs": [],
   "source": [
    "# Lê todas as tabelas da página\n",
    "tabelas_class_gols = pd.read_html(url_class_gols)"
   ]
  },
  {
   "cell_type": "code",
   "execution_count": 81,
   "id": "00f3a605",
   "metadata": {},
   "outputs": [],
   "source": [
    "# Tabela correta: índice 0\n",
    "df_class_gols = tabelas_class_gols[1]"
   ]
  },
  {
   "cell_type": "code",
   "execution_count": 117,
   "id": "b4cdc157",
   "metadata": {},
   "outputs": [
    {
     "name": "stdout",
     "output_type": "stream",
     "text": [
      "[('Unnamed: 0_level_0', 'Rk'), ('Unnamed: 1_level_0', 'Squad'), ('Home', 'MP'), ('Home', 'W'), ('Home', 'D'), ('Home', 'L'), ('Home', 'GF'), ('Home', 'GA'), ('Home', 'GD'), ('Home', 'Pts'), ('Home', 'Pts/MP'), ('Home', 'xG'), ('Home', 'xGA'), ('Home', 'xGD'), ('Home', 'xGD/90'), ('Away', 'MP'), ('Away', 'W'), ('Away', 'D'), ('Away', 'L'), ('Away', 'GF'), ('Away', 'GA'), ('Away', 'GD'), ('Away', 'Pts'), ('Away', 'Pts/MP'), ('Away', 'xG'), ('Away', 'xGA'), ('Away', 'xGD'), ('Away', 'xGD/90')]\n"
     ]
    }
   ],
   "source": [
    "# Conferir colunas para saber o nome real\n",
    "print(df_class_gols.columns.tolist())"
   ]
  },
  {
   "cell_type": "code",
   "execution_count": 151,
   "id": "4471887e",
   "metadata": {},
   "outputs": [],
   "source": [
    "# Seleciona apenas as colunas de interesse\n",
    "df_gols_casa_fora = df_class_gols[ [('Unnamed: 1_level_0', 'Squad'),('Home', 'GF'), ('Home', 'GA'),('Away', 'GF'),('Away', 'GA')] ]"
   ]
  },
  {
   "cell_type": "code",
   "execution_count": 119,
   "id": "96c9cbad",
   "metadata": {},
   "outputs": [],
   "source": [
    "# Renomear as colunas com dois níveis\n",
    "df_gols_casa_fora.columns = pd.MultiIndex.from_tuples([\n",
    "    (\"\", \"Time\"),\n",
    "    (\"CASA\", \"Gols Marcados\"),\n",
    "    (\"CASA\", \"Gols Sofridos\"),\n",
    "    (\"FORA\", \"Gols Marcados\"),\n",
    "    (\"FORA\", \"Gols Sofridos\")\n",
    "])\n"
   ]
  },
  {
   "cell_type": "code",
   "execution_count": 138,
   "id": "4b618523",
   "metadata": {},
   "outputs": [],
   "source": [
    "# Achatar as colunas MultiIndex para facilitar o merge\n",
    "df_gols_casa_fora_flat = df_gols_casa_fora.copy()\n",
    "df_gols_casa_fora_flat.columns = [\n",
    "    \"\".join(col).strip() if isinstance(col, tuple) else col\n",
    "    for col in df_gols_casa_fora_flat.columns\n",
    "]\n"
   ]
  },
  {
   "cell_type": "code",
   "execution_count": 152,
   "id": "2d4c56f6",
   "metadata": {},
   "outputs": [
    {
     "name": "stdout",
     "output_type": "stream",
     "text": [
      "['Time', 'CASAGols Marcados', 'CASAGols Sofridos', 'FORAGols Marcados', 'FORAGols Sofridos']\n"
     ]
    }
   ],
   "source": [
    "print(df_gols_casa_fora_flat.columns.tolist())\n",
    "\n"
   ]
  },
  {
   "cell_type": "code",
   "execution_count": 156,
   "id": "2c911a21",
   "metadata": {},
   "outputs": [],
   "source": [
    "df_gols_casa_fora_flat ['TOTALGols Marcados'] = df_gols_casa_fora_flat['CASAGols Marcados'] + df_gols_casa_fora_flat['FORAGols Marcados']\n"
   ]
  },
  {
   "cell_type": "code",
   "execution_count": 158,
   "id": "7ade223a",
   "metadata": {},
   "outputs": [],
   "source": [
    "df_gols_casa_fora_flat ['TOTALGols Sofridos'] = df_gols_casa_fora_flat['CASAGols Sofridos'] + df_gols_casa_fora_flat['FORAGols Sofridos']"
   ]
  },
  {
   "cell_type": "code",
   "execution_count": null,
   "id": "f24cbb28",
   "metadata": {},
   "outputs": [],
   "source": [
    "# Exclui a coluna 'Total_Gols' do df_final\n",
    "#df_gols_casa_fora_flat = df_gols_casa_fora_flat.drop(columns=['Total_Gols'])"
   ]
  },
  {
   "cell_type": "code",
   "execution_count": 163,
   "id": "d2550732",
   "metadata": {},
   "outputs": [],
   "source": [
    "# Primeiro merge entre df_gols_casa_fora e df_gols\n",
    "df_final = pd.merge(df_gols_casa_fora_flat, df_shots, on='Time', how='inner')\n"
   ]
  },
  {
   "cell_type": "code",
   "execution_count": 165,
   "id": "1300220e",
   "metadata": {},
   "outputs": [
    {
     "data": {
      "text/html": [
       "<div>\n",
       "<style scoped>\n",
       "    .dataframe tbody tr th:only-of-type {\n",
       "        vertical-align: middle;\n",
       "    }\n",
       "\n",
       "    .dataframe tbody tr th {\n",
       "        vertical-align: top;\n",
       "    }\n",
       "\n",
       "    .dataframe thead th {\n",
       "        text-align: right;\n",
       "    }\n",
       "</style>\n",
       "<table border=\"1\" class=\"dataframe\">\n",
       "  <thead>\n",
       "    <tr style=\"text-align: right;\">\n",
       "      <th></th>\n",
       "      <th>Time</th>\n",
       "      <th>CASAGols Marcados</th>\n",
       "      <th>CASAGols Sofridos</th>\n",
       "      <th>FORAGols Marcados</th>\n",
       "      <th>FORAGols Sofridos</th>\n",
       "      <th>TOTALGols Marcados</th>\n",
       "      <th>TOTALGols Sofridos</th>\n",
       "      <th>Chutes no Alvo</th>\n",
       "    </tr>\n",
       "  </thead>\n",
       "  <tbody>\n",
       "    <tr>\n",
       "      <th>0</th>\n",
       "      <td>Liverpool</td>\n",
       "      <td>42</td>\n",
       "      <td>16</td>\n",
       "      <td>44</td>\n",
       "      <td>25</td>\n",
       "      <td>86</td>\n",
       "      <td>41</td>\n",
       "      <td>215</td>\n",
       "    </tr>\n",
       "    <tr>\n",
       "      <th>1</th>\n",
       "      <td>Arsenal</td>\n",
       "      <td>35</td>\n",
       "      <td>17</td>\n",
       "      <td>34</td>\n",
       "      <td>17</td>\n",
       "      <td>69</td>\n",
       "      <td>34</td>\n",
       "      <td>178</td>\n",
       "    </tr>\n",
       "    <tr>\n",
       "      <th>2</th>\n",
       "      <td>Manchester City</td>\n",
       "      <td>43</td>\n",
       "      <td>23</td>\n",
       "      <td>29</td>\n",
       "      <td>21</td>\n",
       "      <td>72</td>\n",
       "      <td>44</td>\n",
       "      <td>208</td>\n",
       "    </tr>\n",
       "    <tr>\n",
       "      <th>3</th>\n",
       "      <td>Chelsea</td>\n",
       "      <td>35</td>\n",
       "      <td>18</td>\n",
       "      <td>29</td>\n",
       "      <td>25</td>\n",
       "      <td>64</td>\n",
       "      <td>43</td>\n",
       "      <td>203</td>\n",
       "    </tr>\n",
       "    <tr>\n",
       "      <th>4</th>\n",
       "      <td>Newcastle Utd</td>\n",
       "      <td>40</td>\n",
       "      <td>20</td>\n",
       "      <td>28</td>\n",
       "      <td>27</td>\n",
       "      <td>68</td>\n",
       "      <td>47</td>\n",
       "      <td>163</td>\n",
       "    </tr>\n",
       "  </tbody>\n",
       "</table>\n",
       "</div>"
      ],
      "text/plain": [
       "              Time  CASAGols Marcados  CASAGols Sofridos  FORAGols Marcados  \\\n",
       "0        Liverpool                 42                 16                 44   \n",
       "1          Arsenal                 35                 17                 34   \n",
       "2  Manchester City                 43                 23                 29   \n",
       "3          Chelsea                 35                 18                 29   \n",
       "4    Newcastle Utd                 40                 20                 28   \n",
       "\n",
       "   FORAGols Sofridos  TOTALGols Marcados  TOTALGols Sofridos  Chutes no Alvo  \n",
       "0                 25                  86                  41             215  \n",
       "1                 17                  69                  34             178  \n",
       "2                 21                  72                  44             208  \n",
       "3                 25                  64                  43             203  \n",
       "4                 27                  68                  47             163  "
      ]
     },
     "execution_count": 165,
     "metadata": {},
     "output_type": "execute_result"
    }
   ],
   "source": [
    "(df_final.head())"
   ]
  },
  {
   "cell_type": "code",
   "execution_count": 173,
   "id": "0e374250",
   "metadata": {},
   "outputs": [],
   "source": [
    "# Ajusta os nomes conforme as tabelas\n",
    "new_cols = [\n",
    "    (\"\", \"Time\"),\n",
    "    (\"CASA\", \"Gols Marcados\"),\n",
    "    (\"CASA\", \"Gols Sofridos\"),\n",
    "    (\"FORA\", \"Gols Marcados\"),\n",
    "    (\"FORA\", \"Gols Sofridos\"),\n",
    "    (\"TOTAL\", \"Gols Marcados\"),\n",
    "    (\"TOTAL\", \"Gols Sofridos\"), \n",
    "    (\"\", \"Chutes no Alvo\")\n",
    "]"
   ]
  },
  {
   "cell_type": "code",
   "execution_count": 174,
   "id": "5c3fe428",
   "metadata": {},
   "outputs": [],
   "source": [
    "# Aplica os novos nomes ao DataFrame final\n",
    "df_final.columns = pd.MultiIndex.from_tuples(new_cols)"
   ]
  },
  {
   "cell_type": "code",
   "execution_count": 175,
   "id": "ad06606a",
   "metadata": {},
   "outputs": [
    {
     "data": {
      "text/html": [
       "<div>\n",
       "<style scoped>\n",
       "    .dataframe tbody tr th:only-of-type {\n",
       "        vertical-align: middle;\n",
       "    }\n",
       "\n",
       "    .dataframe tbody tr th {\n",
       "        vertical-align: top;\n",
       "    }\n",
       "\n",
       "    .dataframe thead tr th {\n",
       "        text-align: left;\n",
       "    }\n",
       "</style>\n",
       "<table border=\"1\" class=\"dataframe\">\n",
       "  <thead>\n",
       "    <tr>\n",
       "      <th></th>\n",
       "      <th></th>\n",
       "      <th colspan=\"2\" halign=\"left\">CASA</th>\n",
       "      <th colspan=\"2\" halign=\"left\">FORA</th>\n",
       "      <th colspan=\"2\" halign=\"left\">TOTAL</th>\n",
       "      <th></th>\n",
       "    </tr>\n",
       "    <tr>\n",
       "      <th></th>\n",
       "      <th>Time</th>\n",
       "      <th>Gols Marcados</th>\n",
       "      <th>Gols Sofridos</th>\n",
       "      <th>Gols Marcados</th>\n",
       "      <th>Gols Sofridos</th>\n",
       "      <th>Gols Marcados</th>\n",
       "      <th>Gols Sofridos</th>\n",
       "      <th>Chutes no Alvo</th>\n",
       "    </tr>\n",
       "  </thead>\n",
       "  <tbody>\n",
       "    <tr>\n",
       "      <th>0</th>\n",
       "      <td>Liverpool</td>\n",
       "      <td>42</td>\n",
       "      <td>16</td>\n",
       "      <td>44</td>\n",
       "      <td>25</td>\n",
       "      <td>86</td>\n",
       "      <td>41</td>\n",
       "      <td>215</td>\n",
       "    </tr>\n",
       "    <tr>\n",
       "      <th>1</th>\n",
       "      <td>Arsenal</td>\n",
       "      <td>35</td>\n",
       "      <td>17</td>\n",
       "      <td>34</td>\n",
       "      <td>17</td>\n",
       "      <td>69</td>\n",
       "      <td>34</td>\n",
       "      <td>178</td>\n",
       "    </tr>\n",
       "    <tr>\n",
       "      <th>2</th>\n",
       "      <td>Manchester City</td>\n",
       "      <td>43</td>\n",
       "      <td>23</td>\n",
       "      <td>29</td>\n",
       "      <td>21</td>\n",
       "      <td>72</td>\n",
       "      <td>44</td>\n",
       "      <td>208</td>\n",
       "    </tr>\n",
       "    <tr>\n",
       "      <th>3</th>\n",
       "      <td>Chelsea</td>\n",
       "      <td>35</td>\n",
       "      <td>18</td>\n",
       "      <td>29</td>\n",
       "      <td>25</td>\n",
       "      <td>64</td>\n",
       "      <td>43</td>\n",
       "      <td>203</td>\n",
       "    </tr>\n",
       "    <tr>\n",
       "      <th>4</th>\n",
       "      <td>Newcastle Utd</td>\n",
       "      <td>40</td>\n",
       "      <td>20</td>\n",
       "      <td>28</td>\n",
       "      <td>27</td>\n",
       "      <td>68</td>\n",
       "      <td>47</td>\n",
       "      <td>163</td>\n",
       "    </tr>\n",
       "  </tbody>\n",
       "</table>\n",
       "</div>"
      ],
      "text/plain": [
       "                            CASA                        FORA                \\\n",
       "              Time Gols Marcados Gols Sofridos Gols Marcados Gols Sofridos   \n",
       "0        Liverpool            42            16            44            25   \n",
       "1          Arsenal            35            17            34            17   \n",
       "2  Manchester City            43            23            29            21   \n",
       "3          Chelsea            35            18            29            25   \n",
       "4    Newcastle Utd            40            20            28            27   \n",
       "\n",
       "          TOTAL                               \n",
       "  Gols Marcados Gols Sofridos Chutes no Alvo  \n",
       "0            86            41            215  \n",
       "1            69            34            178  \n",
       "2            72            44            208  \n",
       "3            64            43            203  \n",
       "4            68            47            163  "
      ]
     },
     "execution_count": 175,
     "metadata": {},
     "output_type": "execute_result"
    }
   ],
   "source": [
    "(df_final.head())\n"
   ]
  },
  {
   "cell_type": "code",
   "execution_count": 185,
   "id": "192a5143",
   "metadata": {},
   "outputs": [
    {
     "name": "stdout",
     "output_type": "stream",
     "text": [
      "Arquivo HTML salvo com sucesso! Abra no navegador para visualizar.\n"
     ]
    }
   ],
   "source": [
    "#VISUALIZAR NO NAVEGADOR WEB\n",
    "# 1. Adiciona estilo na tabela\n",
    "styled_html = (\n",
    "    df_final.style\n",
    "    .hide(axis=\"index\")  # oculta o índice\n",
    "    .set_table_attributes('border=\"1\" class=\"dataframe\"')\n",
    "    .set_caption(\"Premier League 2024/2025\")\n",
    "    .set_table_styles([\n",
    "        {\n",
    "            'selector': 'caption',\n",
    "            'props': [\n",
    "                ('caption-side', 'top'),   # posição da legenda\n",
    "                ('font-size', '20px'),     # tamanho da fonte\n",
    "                ('font-weight', 'bold'),   # opcional: negrito\n",
    "                ('text-align', 'center')   # centralizado\n",
    "            ]\n",
    "        }\n",
    "    ])\n",
    "    .set_properties(**{\n",
    "        'border': '1px solid black',\n",
    "        'text-align': 'center',\n",
    "        'font-family': 'Arial',\n",
    "        'font-size': '14px'\n",
    "    })\n",
    "    .to_html()\n",
    ")\n",
    "\n",
    "# 2. Salva em HTML com UTF-8-SIG para acentos corretos\n",
    "with open('index.html', 'w', encoding='utf-8-sig') as f:\n",
    "    f.write(styled_html)\n",
    "\n",
    "print(\"Arquivo HTML salvo com sucesso! Abra no navegador para visualizar.\")"
   ]
  },
  {
   "cell_type": "code",
   "execution_count": 69,
   "id": "9a326cb3",
   "metadata": {},
   "outputs": [
    {
     "name": "stdout",
     "output_type": "stream",
     "text": [
      "\n",
      "Tabela 0:\n",
      " ['Rk', 'Squad', 'MP', 'W', 'D', 'L', 'GF', 'GA', 'GD', 'Pts', 'Pts/MP', 'xG', 'xGA', 'xGD', 'xGD/90', 'Attendance', 'Top Team Scorer', 'Goalkeeper', 'Notes']\n",
      "\n",
      "Tabela 1:\n",
      " [('Unnamed: 0_level_0', 'Rk'), ('Unnamed: 1_level_0', 'Squad'), ('Home', 'MP'), ('Home', 'W'), ('Home', 'D'), ('Home', 'L'), ('Home', 'GF'), ('Home', 'GA'), ('Home', 'GD'), ('Home', 'Pts'), ('Home', 'Pts/MP'), ('Home', 'xG'), ('Home', 'xGA'), ('Home', 'xGD'), ('Home', 'xGD/90'), ('Away', 'MP'), ('Away', 'W'), ('Away', 'D'), ('Away', 'L'), ('Away', 'GF'), ('Away', 'GA'), ('Away', 'GD'), ('Away', 'Pts'), ('Away', 'Pts/MP'), ('Away', 'xG'), ('Away', 'xGA'), ('Away', 'xGD'), ('Away', 'xGD/90')]\n"
     ]
    }
   ],
   "source": [
    "\n",
    "\n",
    "url_classificacao = \"https://fbref.com/en/comps/9/Premier-League-Stats\"\n",
    "tabelas_class = pd.read_html(url_classificacao)\n",
    "\n",
    "# Mostra quantas tabelas existem e os nomes das colunas\n",
    "for i, tabela in enumerate(tabelas_class):\n",
    "    print(f\"\\nTabela {i}:\\n\", tabela.columns.tolist())\n"
   ]
  }
 ],
 "metadata": {
  "kernelspec": {
   "display_name": "venv",
   "language": "python",
   "name": "python3"
  },
  "language_info": {
   "codemirror_mode": {
    "name": "ipython",
    "version": 3
   },
   "file_extension": ".py",
   "mimetype": "text/x-python",
   "name": "python",
   "nbconvert_exporter": "python",
   "pygments_lexer": "ipython3",
   "version": "3.13.2"
  }
 },
 "nbformat": 4,
 "nbformat_minor": 5
}
