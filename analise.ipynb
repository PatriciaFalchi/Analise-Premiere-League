{
 "cells": [
  {
   "cell_type": "code",
   "execution_count": 13,
   "id": "26fc316d",
   "metadata": {},
   "outputs": [],
   "source": [
    "import pandas as pd"
   ]
  },
  {
   "cell_type": "code",
   "execution_count": 46,
   "id": "cdc0d670",
   "metadata": {},
   "outputs": [],
   "source": [
    "# Função para baixar e tratar tabelas do FBref\n",
    "def get_fbref_table(url):\n",
    "    tables = pd.read_html(url, header=[0, 1])\n",
    "    df = tables[0]\n",
    "    # Junta MultiIndex em nomes simples\n",
    "    df.columns = [' '.join(col).strip() for col in df.columns.values]\n",
    "    # Remove espaços extras\n",
    "    df.columns = df.columns.str.strip()\n",
    "    return df"
   ]
  },
  {
   "cell_type": "code",
   "execution_count": 47,
   "id": "b98c0abd",
   "metadata": {},
   "outputs": [],
   "source": [
    "# 1. Estatísticas gerais (Gols Pró)\n",
    "url_stats = \"https://fbref.com/en/comps/9/2024-2025/stats/2024-2025-Premier-League-Stats\"\n",
    "df_gols = get_fbref_table(url_stats)"
   ]
  },
  {
   "cell_type": "code",
   "execution_count": 48,
   "id": "796022cc",
   "metadata": {},
   "outputs": [
    {
     "name": "stdout",
     "output_type": "stream",
     "text": [
      "['Unnamed: 0_level_0 Squad', 'Unnamed: 1_level_0 # Pl', 'Unnamed: 2_level_0 Age', 'Unnamed: 3_level_0 Poss', 'Playing Time MP', 'Playing Time Starts', 'Playing Time Min', 'Playing Time 90s', 'Performance Gls', 'Performance Ast', 'Performance G+A', 'Performance G-PK', 'Performance PK', 'Performance PKatt', 'Performance CrdY', 'Performance CrdR', 'Expected xG', 'Expected npxG', 'Expected xAG', 'Expected npxG+xAG', 'Progression PrgC', 'Progression PrgP', 'Per 90 Minutes Gls', 'Per 90 Minutes Ast', 'Per 90 Minutes G+A', 'Per 90 Minutes G-PK', 'Per 90 Minutes G+A-PK', 'Per 90 Minutes xG', 'Per 90 Minutes xAG', 'Per 90 Minutes xG+xAG', 'Per 90 Minutes npxG', 'Per 90 Minutes npxG+xAG']\n"
     ]
    }
   ],
   "source": [
    "# Conferir colunas para saber o nome real\n",
    "print(df_gols.columns.tolist())"
   ]
  },
  {
   "cell_type": "code",
   "execution_count": 52,
   "id": "fbe771fd",
   "metadata": {},
   "outputs": [],
   "source": [
    "# Renomeia colunas\n",
    "df_gols = df_gols.rename(columns={\n",
    "    'Unnamed: 0_level_0 Squad': 'Time',\n",
    "    'Performance Gls': 'Gols Pró'\n",
    "})"
   ]
  },
  {
   "cell_type": "code",
   "execution_count": 53,
   "id": "e51215dc",
   "metadata": {},
   "outputs": [],
   "source": [
    "# Seleciona apenas colunas de interesse\n",
    "df_gols = df_gols[['Time', 'Gols Pró']]"
   ]
  },
  {
   "cell_type": "code",
   "execution_count": 54,
   "id": "acc7b68f",
   "metadata": {},
   "outputs": [
    {
     "name": "stdout",
     "output_type": "stream",
     "text": [
      "['Time', 'Gols Pró']\n"
     ]
    }
   ],
   "source": [
    "print(df_gols.columns.tolist())"
   ]
  },
  {
   "cell_type": "code",
   "execution_count": null,
   "id": "a1131aef",
   "metadata": {},
   "outputs": [],
   "source": [
    "#ESTATISTICA DE CHUTES"
   ]
  },
  {
   "cell_type": "code",
   "execution_count": 55,
   "id": "ab1aa878",
   "metadata": {},
   "outputs": [],
   "source": [
    "# 2. Estatísticas de chutes\n",
    "url_shots = \"https://fbref.com/en/comps/9/2024-2025/shooting/2024-2025-Premier-League-Stats\"\n",
    "df_shots = get_fbref_table(url_shots)"
   ]
  },
  {
   "cell_type": "code",
   "execution_count": 56,
   "id": "79a35375",
   "metadata": {},
   "outputs": [
    {
     "name": "stdout",
     "output_type": "stream",
     "text": [
      "['Unnamed: 0_level_0 Squad', 'Unnamed: 1_level_0 # Pl', 'Unnamed: 2_level_0 90s', 'Standard Gls', 'Standard Sh', 'Standard SoT', 'Standard SoT%', 'Standard Sh/90', 'Standard SoT/90', 'Standard G/Sh', 'Standard G/SoT', 'Standard Dist', 'Standard FK', 'Standard PK', 'Standard PKatt', 'Expected xG', 'Expected npxG', 'Expected npxG/Sh', 'Expected G-xG', 'Expected np:G-xG']\n"
     ]
    }
   ],
   "source": [
    "# Conferir colunas para saber o nome real\n",
    "print(df_shots.columns.tolist())"
   ]
  },
  {
   "cell_type": "code",
   "execution_count": 57,
   "id": "807ba601",
   "metadata": {},
   "outputs": [],
   "source": [
    "#Renomear colunas\n",
    "df_shots = df_shots.rename(columns={\n",
    "    'Unnamed: 0_level_0 Squad': 'Time',\n",
    "    'Standard SoT': 'Chutes no Alvo'\n",
    "})\n",
    "\n",
    "df_shots = df_shots[['Time', 'Chutes no Alvo']]\n"
   ]
  },
  {
   "cell_type": "code",
   "execution_count": 58,
   "id": "e72a9021",
   "metadata": {},
   "outputs": [
    {
     "name": "stdout",
     "output_type": "stream",
     "text": [
      "['Time', 'Chutes no Alvo']\n"
     ]
    }
   ],
   "source": [
    "# Conferir colunas para saber o nome real\n",
    "print(df_shots.columns.tolist())"
   ]
  },
  {
   "cell_type": "code",
   "execution_count": 59,
   "id": "dff83fd4",
   "metadata": {},
   "outputs": [],
   "source": [
    "# Seleciona apenas colunas de interesse\n",
    "df_shots = df_shots[['Time', 'Chutes no Alvo']]"
   ]
  },
  {
   "cell_type": "code",
   "execution_count": 60,
   "id": "d2550732",
   "metadata": {},
   "outputs": [],
   "source": [
    "# 3. Merge das tabelas\n",
    "df_final = pd.merge(df_gols, df_shots, on='Time', how='inner')"
   ]
  },
  {
   "cell_type": "code",
   "execution_count": 61,
   "id": "1054ff1e",
   "metadata": {},
   "outputs": [
    {
     "name": "stdout",
     "output_type": "stream",
     "text": [
      "               Time  Gols Pró  Chutes no Alvo\n",
      "0           Arsenal        67             178\n",
      "1       Aston Villa        56             159\n",
      "2       Bournemouth        57             192\n",
      "3         Brentford        65             173\n",
      "4          Brighton        64             183\n",
      "5           Chelsea        61             203\n",
      "6    Crystal Palace        49             175\n",
      "7           Everton        39             139\n",
      "8            Fulham        53             167\n",
      "9      Ipswich Town        35             120\n",
      "10   Leicester City        33             105\n",
      "11        Liverpool        85             215\n",
      "12  Manchester City        71             208\n",
      "13   Manchester Utd        42             168\n",
      "14    Newcastle Utd        66             163\n",
      "15  Nott'ham Forest        57             162\n",
      "16      Southampton        25             106\n",
      "17        Tottenham        61             177\n",
      "18         West Ham        43             137\n",
      "19           Wolves        53             155\n"
     ]
    }
   ],
   "source": [
    "# Exibe resultado\n",
    "print(df_final)"
   ]
  },
  {
   "cell_type": "code",
   "execution_count": null,
   "id": "fe30200c",
   "metadata": {},
   "outputs": [
    {
     "name": "stdout",
     "output_type": "stream",
     "text": [
      "Arquivo HTML salvo com sucesso! Abra no navegador para visualizar.\n"
     ]
    }
   ],
   "source": [
    "#VISUALIZAR NO NAVEGADOR WEB\n",
    "# 1. Adiciona estilo na tabela\n",
    "styled_html = df_final.style \\\n",
    "    .set_table_attributes('border=\"1\" class=\"dataframe\"') \\\n",
    "    .set_caption(\"Premier League 2024/2025\") \\\n",
    "    .set_properties(**{\n",
    "        'border': '1px solid black',\n",
    "        'text-align': 'center',\n",
    "        'font-family': 'Arial',\n",
    "        'font-size': '14px'\n",
    "    }) \\\n",
    "    .to_html()  # <-- aqui trocamos render() por to_html()\n",
    "\n",
    "# 2. Salva em HTML com UTF-8-SIG para acentos corretos\n",
    "with open('premier_league_2024_2025.html', 'w', encoding='utf-8-sig') as f:\n",
    "    f.write(styled_html)\n",
    "\n",
    "print(\"Arquivo HTML salvo com sucesso! Abra no navegador para visualizar.\")\n"
   ]
  },
  {
   "cell_type": "code",
   "execution_count": 69,
   "id": "9a326cb3",
   "metadata": {},
   "outputs": [
    {
     "name": "stdout",
     "output_type": "stream",
     "text": [
      "\n",
      "Tabela 0:\n",
      " ['Rk', 'Squad', 'MP', 'W', 'D', 'L', 'GF', 'GA', 'GD', 'Pts', 'Pts/MP', 'xG', 'xGA', 'xGD', 'xGD/90', 'Attendance', 'Top Team Scorer', 'Goalkeeper', 'Notes']\n",
      "\n",
      "Tabela 1:\n",
      " [('Unnamed: 0_level_0', 'Rk'), ('Unnamed: 1_level_0', 'Squad'), ('Home', 'MP'), ('Home', 'W'), ('Home', 'D'), ('Home', 'L'), ('Home', 'GF'), ('Home', 'GA'), ('Home', 'GD'), ('Home', 'Pts'), ('Home', 'Pts/MP'), ('Home', 'xG'), ('Home', 'xGA'), ('Home', 'xGD'), ('Home', 'xGD/90'), ('Away', 'MP'), ('Away', 'W'), ('Away', 'D'), ('Away', 'L'), ('Away', 'GF'), ('Away', 'GA'), ('Away', 'GD'), ('Away', 'Pts'), ('Away', 'Pts/MP'), ('Away', 'xG'), ('Away', 'xGA'), ('Away', 'xGD'), ('Away', 'xGD/90')]\n"
     ]
    }
   ],
   "source": [
    "\n",
    "\n",
    "url_classificacao = \"https://fbref.com/en/comps/9/Premier-League-Stats\"\n",
    "tabelas_class = pd.read_html(url_classificacao)\n",
    "\n",
    "# Mostra quantas tabelas existem e os nomes das colunas\n",
    "for i, tabela in enumerate(tabelas_class):\n",
    "    print(f\"\\nTabela {i}:\\n\", tabela.columns.tolist())\n"
   ]
  }
 ],
 "metadata": {
  "kernelspec": {
   "display_name": "venv",
   "language": "python",
   "name": "python3"
  },
  "language_info": {
   "codemirror_mode": {
    "name": "ipython",
    "version": 3
   },
   "file_extension": ".py",
   "mimetype": "text/x-python",
   "name": "python",
   "nbconvert_exporter": "python",
   "pygments_lexer": "ipython3",
   "version": "3.13.2"
  }
 },
 "nbformat": 4,
 "nbformat_minor": 5
}
